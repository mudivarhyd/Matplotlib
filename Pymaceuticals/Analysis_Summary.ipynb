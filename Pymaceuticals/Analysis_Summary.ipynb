{
 "cells": [
  {
   "cell_type": "markdown",
   "metadata": {},
   "source": [
    "## Summary of observations in data"
   ]
  },
  {
   "cell_type": "markdown",
   "metadata": {},
   "source": [
    "The study was focused about assessing the effects of four anti-cancer drug out of 9 different drugs and one Placebo.\n",
    "Mice were used as the subjects, following a repeat measure design for a total time period of 45 days. Total of 252 mice\n",
    "were used for the study.\n",
    "\n",
    "Capomulin is the only drug which had decrease in tumor volume compared to Infubinol, Ketapril and Placebo.\n",
    "\n",
    "Placebo and Ketapril had higher metastatic spread compared to Infubinol and Capomulin during the course of the study.\n",
    "\n",
    "Capomulin drug had higher survival rate over the course of the study.Capomulin is the only drug which has more than 50%\n",
    "survival rate compared to other drugs.\n",
    "\n",
    "Compared to all the 10 drugs in the study only Ramicane and Capomulin showed decrease in tumor size and Ramicane had slightly higher\n",
    "decrease in tumor size compared to Capomulin.\n",
    "\n",
    "Compared to others only Capomulin exhibited a decrease in tumor size of the 4 drugs analyzed and slower spread of metastatic sites and\n",
    "slower decrease in survival rates in comparison to other drugs can be incurred based on the data analyzed after the completion of the study."
   ]
  }
 ],
 "metadata": {
  "kernelspec": {
   "display_name": "Python 3",
   "language": "python",
   "name": "python3"
  },
  "language_info": {
   "codemirror_mode": {
    "name": "ipython",
    "version": 3
   },
   "file_extension": ".py",
   "mimetype": "text/x-python",
   "name": "python",
   "nbconvert_exporter": "python",
   "pygments_lexer": "ipython3",
   "version": "3.7.0"
  }
 },
 "nbformat": 4,
 "nbformat_minor": 2
}
